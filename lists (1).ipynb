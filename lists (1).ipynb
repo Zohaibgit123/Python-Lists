{
  "metadata": {
    "toc-autonumbering": true,
    "toc-showcode": true,
    "toc-showtags": false,
    "language_info": {
      "codemirror_mode": {
        "name": "python",
        "version": 3
      },
      "file_extension": ".py",
      "mimetype": "text/x-python",
      "name": "python",
      "nbconvert_exporter": "python",
      "pygments_lexer": "ipython3",
      "version": "3.8"
    },
    "kernelspec": {
      "name": "python",
      "display_name": "Python (Pyodide)",
      "language": "python"
    }
  },
  "nbformat_minor": 4,
  "nbformat": 4,
  "cells": [
    {
      "cell_type": "code",
      "source": "#Python Lists\n\nthislist = [\"apple\", \"banana\", \"cherry\"]\nprint(thislist)\n",
      "metadata": {
        "trusted": true
      },
      "execution_count": 1,
      "outputs": [
        {
          "name": "stdout",
          "text": "['apple', 'banana', 'cherry']\n",
          "output_type": "stream"
        }
      ]
    },
    {
      "cell_type": "code",
      "source": "#Lists allow duplicate values:\n\nthislist = [\"apple\", \"banana\", \"cherry\", \"apple\", \"cherry\"]\nprint(thislist)\n",
      "metadata": {
        "trusted": true
      },
      "execution_count": 2,
      "outputs": [
        {
          "name": "stdout",
          "text": "['apple', 'banana', 'cherry', 'apple', 'cherry']\n",
          "output_type": "stream"
        }
      ]
    },
    {
      "cell_type": "code",
      "source": "#Print the number of items in the list:\n\nthislist = [\"apple\", \"banana\", \"cherry\"]\nprint(len(thislist))\n",
      "metadata": {
        "trusted": true
      },
      "execution_count": 3,
      "outputs": [
        {
          "name": "stdout",
          "text": "3\n",
          "output_type": "stream"
        }
      ]
    },
    {
      "cell_type": "code",
      "source": "#String, int and boolean data types:\n\nlist1 = [\"apple\", \"banana\", \"cherry\"]\nlist2 = [1, 5, 7, 9, 3]\nlist3 = [True, False, False]",
      "metadata": {
        "trusted": true
      },
      "execution_count": 4,
      "outputs": []
    },
    {
      "cell_type": "code",
      "source": "#A list with strings, integers and boolean values:\n\nlist1 = [\"abc\", 34, True, 40, \"male\"]",
      "metadata": {
        "trusted": true
      },
      "execution_count": 5,
      "outputs": []
    },
    {
      "cell_type": "code",
      "source": "#What is the data type of a list?\n\nmylist = [\"apple\", \"banana\", \"cherry\"]\nprint(type(mylist))",
      "metadata": {
        "trusted": true
      },
      "execution_count": 6,
      "outputs": [
        {
          "name": "stdout",
          "text": "<class 'list'>\n",
          "output_type": "stream"
        }
      ]
    },
    {
      "cell_type": "code",
      "source": "#Using the list() constructor to make a List:\n\nthislist = list((\"apple\", \"banana\", \"cherry\")) # note the double round-brackets\nprint(thislist)",
      "metadata": {
        "trusted": true
      },
      "execution_count": 7,
      "outputs": [
        {
          "name": "stdout",
          "text": "['apple', 'banana', 'cherry']\n",
          "output_type": "stream"
        }
      ]
    },
    {
      "cell_type": "code",
      "source": "#Print the second item of the list:\n\nthislist = [\"apple\", \"banana\", \"cherry\"]\nprint(thislist[1])",
      "metadata": {
        "trusted": true
      },
      "execution_count": 8,
      "outputs": [
        {
          "name": "stdout",
          "text": "banana\n",
          "output_type": "stream"
        }
      ]
    },
    {
      "cell_type": "code",
      "source": "#Print the last item of the list:\n\nthislist = [\"apple\", \"banana\", \"cherry\"]\nprint(thislist[-1])",
      "metadata": {
        "trusted": true
      },
      "execution_count": 9,
      "outputs": [
        {
          "name": "stdout",
          "text": "cherry\n",
          "output_type": "stream"
        }
      ]
    },
    {
      "cell_type": "code",
      "source": "#Change the second item:\n\nthislist = [\"apple\", \"banana\", \"cherry\"]\nthislist[1] = \"blackcurrant\"\nprint(thislist)",
      "metadata": {
        "trusted": true
      },
      "execution_count": 10,
      "outputs": [
        {
          "name": "stdout",
          "text": "['apple', 'blackcurrant', 'cherry']\n",
          "output_type": "stream"
        }
      ]
    },
    {
      "cell_type": "code",
      "source": "#Change the values \"banana\" and \"cherry\" with the values \"blackcurrant\" and \"watermelon\":\n\nthislist = [\"apple\", \"banana\", \"cherry\", \"orange\", \"kiwi\", \"mango\"]\nthislist[1:3] = [\"blackcurrant\", \"watermelon\"]\nprint(thislist)\n",
      "metadata": {
        "trusted": true
      },
      "execution_count": 11,
      "outputs": [
        {
          "name": "stdout",
          "text": "['apple', 'blackcurrant', 'watermelon', 'orange', 'kiwi', 'mango']\n",
          "output_type": "stream"
        }
      ]
    },
    {
      "cell_type": "code",
      "source": "#Change the second value by replacing it with two new values:\n\nthislist = [\"apple\", \"banana\", \"cherry\"]\nthislist[1:2] = [\"blackcurrant\", \"watermelon\"]\nprint(thislist)",
      "metadata": {
        "trusted": true
      },
      "execution_count": 12,
      "outputs": [
        {
          "name": "stdout",
          "text": "['apple', 'blackcurrant', 'watermelon', 'cherry']\n",
          "output_type": "stream"
        }
      ]
    },
    {
      "cell_type": "code",
      "source": "#Change the second and third value by replacing it with one value:\n\nthislist = [\"apple\", \"banana\", \"cherry\"]\nthislist[1:3] = [\"watermelon\"]\nprint(thislist)",
      "metadata": {
        "trusted": true
      },
      "execution_count": 13,
      "outputs": [
        {
          "name": "stdout",
          "text": "['apple', 'watermelon']\n",
          "output_type": "stream"
        }
      ]
    },
    {
      "cell_type": "code",
      "source": "#Insert \"watermelon\" as the third item:\n\nthislist = [\"apple\", \"banana\", \"cherry\"]\nthislist.insert(2, \"watermelon\")\nprint(thislist)",
      "metadata": {
        "trusted": true
      },
      "execution_count": 14,
      "outputs": [
        {
          "name": "stdout",
          "text": "['apple', 'banana', 'watermelon', 'cherry']\n",
          "output_type": "stream"
        }
      ]
    },
    {
      "cell_type": "code",
      "source": "#Using the append() method to append an item:\n\nthislist = [\"apple\", \"banana\", \"cherry\"]\nthislist.append(\"orange\")\nprint(thislist)",
      "metadata": {
        "trusted": true
      },
      "execution_count": 15,
      "outputs": [
        {
          "name": "stdout",
          "text": "['apple', 'banana', 'cherry', 'orange']\n",
          "output_type": "stream"
        }
      ]
    },
    {
      "cell_type": "code",
      "source": "#Insert an item as the second position:\n\nthislist = [\"apple\", \"banana\", \"cherry\"]\nthislist.insert(1, \"orange\")\nprint(thislist)",
      "metadata": {
        "trusted": true
      },
      "execution_count": 16,
      "outputs": [
        {
          "name": "stdout",
          "text": "['apple', 'orange', 'banana', 'cherry']\n",
          "output_type": "stream"
        }
      ]
    },
    {
      "cell_type": "code",
      "source": "#Add the elements of tropical to thislist:\n\nthislist = [\"apple\", \"banana\", \"cherry\"]\ntropical = [\"mango\", \"pineapple\", \"papaya\"]\nthislist.extend(tropical)\nprint(thislist)",
      "metadata": {
        "trusted": true
      },
      "execution_count": 17,
      "outputs": [
        {
          "name": "stdout",
          "text": "['apple', 'banana', 'cherry', 'mango', 'pineapple', 'papaya']\n",
          "output_type": "stream"
        }
      ]
    },
    {
      "cell_type": "code",
      "source": "#Add elements of a tuple to a list:\n\nthislist = [\"apple\", \"banana\", \"cherry\"]\nthistuple = (\"kiwi\", \"orange\")\nthislist.extend(thistuple)\nprint(thislist)",
      "metadata": {
        "trusted": true
      },
      "execution_count": 19,
      "outputs": [
        {
          "name": "stdout",
          "text": "['apple', 'banana', 'cherry', 'kiwi', 'orange']\n",
          "output_type": "stream"
        }
      ]
    },
    {
      "cell_type": "code",
      "source": "#Remove \"banana\":\n\nthislist = [\"apple\", \"banana\", \"cherry\"]\nthislist.remove(\"banana\")\nprint(thislist)\n",
      "metadata": {
        "trusted": true
      },
      "execution_count": 20,
      "outputs": [
        {
          "name": "stdout",
          "text": "['apple', 'cherry']\n",
          "output_type": "stream"
        }
      ]
    },
    {
      "cell_type": "code",
      "source": "#Remove the second item:\n\nthislist = [\"apple\", \"banana\", \"cherry\"]\nthislist.pop(1)\nprint(thislist)",
      "metadata": {
        "trusted": true
      },
      "execution_count": 21,
      "outputs": [
        {
          "name": "stdout",
          "text": "['apple', 'cherry']\n",
          "output_type": "stream"
        }
      ]
    },
    {
      "cell_type": "code",
      "source": "#Remove the last item:\n\nthislist = [\"apple\", \"banana\", \"cherry\"]\nthislist.pop()\nprint(thislist)",
      "metadata": {
        "trusted": true
      },
      "execution_count": 22,
      "outputs": [
        {
          "name": "stdout",
          "text": "['apple', 'banana']\n",
          "output_type": "stream"
        }
      ]
    },
    {
      "cell_type": "code",
      "source": "#Remove the first item:\n\nthislist = [\"apple\", \"banana\", \"cherry\"]\ndel thislist[0]\nprint(thislist)",
      "metadata": {
        "trusted": true
      },
      "execution_count": 23,
      "outputs": [
        {
          "name": "stdout",
          "text": "['banana', 'cherry']\n",
          "output_type": "stream"
        }
      ]
    },
    {
      "cell_type": "code",
      "source": "#Delete the entire list:\n\nthislist = [\"apple\", \"banana\", \"cherry\"]\ndel thislist",
      "metadata": {
        "trusted": true
      },
      "execution_count": 24,
      "outputs": []
    },
    {
      "cell_type": "code",
      "source": "#Clear the list content:\n\nthislist = [\"apple\", \"banana\", \"cherry\"]\nthislist.clear()\nprint(thislist)",
      "metadata": {
        "trusted": true
      },
      "execution_count": 25,
      "outputs": [
        {
          "name": "stdout",
          "text": "[]\n",
          "output_type": "stream"
        }
      ]
    },
    {
      "cell_type": "code",
      "source": "#Print all items in the list, one by one:\n\nthislist = [\"apple\", \"banana\", \"cherry\"]\nfor x in thislist:\n  print(x)",
      "metadata": {
        "trusted": true
      },
      "execution_count": 27,
      "outputs": [
        {
          "name": "stdout",
          "text": "apple\nbanana\ncherry\n",
          "output_type": "stream"
        }
      ]
    },
    {
      "cell_type": "code",
      "source": "#Print all items by referring to their index number:\n\nthislist = [\"apple\", \"banana\", \"cherry\"]\nfor i in range(len(thislist)):\n  print(thislist[i])",
      "metadata": {
        "trusted": true
      },
      "execution_count": 28,
      "outputs": [
        {
          "name": "stdout",
          "text": "apple\nbanana\ncherry\n",
          "output_type": "stream"
        }
      ]
    },
    {
      "cell_type": "code",
      "source": "#Print all items, using a while loop to go through all the index numbers\n\nthislist = [\"apple\", \"banana\", \"cherry\"]\ni = 0\nwhile i < len(thislist):\n  print(thislist[i])\n  i = i + 1\n",
      "metadata": {
        "trusted": true
      },
      "execution_count": 29,
      "outputs": [
        {
          "name": "stdout",
          "text": "apple\nbanana\ncherry\n",
          "output_type": "stream"
        }
      ]
    },
    {
      "cell_type": "code",
      "source": "#A short hand for loop that will print all items in a list:\n\nthislist = [\"apple\", \"banana\", \"cherry\"]\n[print(x) for x in thislist]",
      "metadata": {
        "trusted": true
      },
      "execution_count": 30,
      "outputs": [
        {
          "name": "stdout",
          "text": "apple\nbanana\ncherry\n",
          "output_type": "stream"
        },
        {
          "execution_count": 30,
          "output_type": "execute_result",
          "data": {
            "text/plain": "[None, None, None]"
          },
          "metadata": {}
        }
      ]
    },
    {
      "cell_type": "code",
      "source": "\n#List comprehension offers a shorter syntax when you want to create a new list based on the values of an existing list.\n#Example:\n#Based on a list of fruits, you want a new list, containing only the fruits with the letter \"a\" in the name.\n#Without list comprehension you will have to write a for statement with a conditional test inside:\n    \nfruits = [\"apple\", \"banana\", \"cherry\", \"kiwi\", \"mango\"]\nnewlist = []\nfor x in fruits:\n  if \"a\" in x:\n    newlist.append(x)\nprint(newlist)",
      "metadata": {
        "trusted": true
      },
      "execution_count": 31,
      "outputs": [
        {
          "name": "stdout",
          "text": "['apple', 'banana', 'mango']\n",
          "output_type": "stream"
        }
      ]
    },
    {
      "cell_type": "code",
      "source": "fruits = [\"apple\", \"banana\", \"cherry\", \"kiwi\", \"mango\"]\n\n\nnewlist = [x for x in fruits if \"a\" in x]\n\n\nprint(newlist)",
      "metadata": {
        "trusted": true
      },
      "execution_count": 32,
      "outputs": [
        {
          "name": "stdout",
          "text": "['apple', 'banana', 'mango']\n",
          "output_type": "stream"
        }
      ]
    },
    {
      "cell_type": "code",
      "source": "fruits = [\"apple\", \"banana\", \"cherry\", \"kiwi\", \"mango\"]\nnewlist = [x for x in fruits if x != \"apple\"]\nprint(newlist)\n\nnewlist = [x for x in fruits]\nprint(newlist)",
      "metadata": {
        "trusted": true
      },
      "execution_count": 37,
      "outputs": [
        {
          "name": "stdout",
          "text": "['banana', 'cherry', 'kiwi', 'mango']\n['apple', 'banana', 'cherry', 'kiwi', 'mango']\n",
          "output_type": "stream"
        }
      ]
    },
    {
      "cell_type": "code",
      "source": "#You can use the range() function to create an iterable:\nnewlist = [x for x in range(10)]\nprint(newlist)",
      "metadata": {
        "trusted": true
      },
      "execution_count": 39,
      "outputs": [
        {
          "name": "stdout",
          "text": "[0, 1, 2, 3, 4, 5, 6, 7, 8, 9]\n",
          "output_type": "stream"
        }
      ]
    },
    {
      "cell_type": "code",
      "source": "#Accept only numbers lower than 5:\nnewlist = [x for x in range(10) if x < 5]\nprint(newlist)",
      "metadata": {
        "trusted": true
      },
      "execution_count": 41,
      "outputs": [
        {
          "name": "stdout",
          "text": "[0, 1, 2, 3, 4]\n",
          "output_type": "stream"
        }
      ]
    },
    {
      "cell_type": "code",
      "source": "newlist = [x.upper() for x in fruits]\nprint(newlist)\n",
      "metadata": {
        "trusted": true
      },
      "execution_count": 43,
      "outputs": [
        {
          "name": "stdout",
          "text": "['APPLE', 'BANANA', 'CHERRY', 'KIWI', 'MANGO']\n",
          "output_type": "stream"
        }
      ]
    },
    {
      "cell_type": "code",
      "source": "#Set all values in the new list to 'hello':\nnewlist = ['hello' for x in fruits]\nprint(newlist)",
      "metadata": {
        "trusted": true
      },
      "execution_count": 45,
      "outputs": [
        {
          "name": "stdout",
          "text": "['hello', 'hello', 'hello', 'hello', 'hello']\n",
          "output_type": "stream"
        }
      ]
    },
    {
      "cell_type": "code",
      "source": "#Return \"orange\" instead of \"banana\":\nnewlist = [x if x != \"banana\" else \"orange\" for x in fruits]\nprint(newlist)",
      "metadata": {
        "trusted": true
      },
      "execution_count": 48,
      "outputs": [
        {
          "name": "stdout",
          "text": "['apple', 'orange', 'cherry', 'kiwi', 'mango']\n",
          "output_type": "stream"
        }
      ]
    },
    {
      "cell_type": "code",
      "source": "#Sort the list alphabetically:\nthislist = [\"orange\", \"mango\", \"kiwi\", \"pineapple\", \"banana\"]\nthislist.sort()\nprint(thislist)",
      "metadata": {
        "trusted": true
      },
      "execution_count": 49,
      "outputs": [
        {
          "name": "stdout",
          "text": "['banana', 'kiwi', 'mango', 'orange', 'pineapple']\n",
          "output_type": "stream"
        }
      ]
    },
    {
      "cell_type": "code",
      "source": "#Sort the list numerically:\nthislist = [100, 50, 65, 82, 23]\nthislist.sort()\nprint(thislist)",
      "metadata": {
        "trusted": true
      },
      "execution_count": 50,
      "outputs": [
        {
          "name": "stdout",
          "text": "[23, 50, 65, 82, 100]\n",
          "output_type": "stream"
        }
      ]
    },
    {
      "cell_type": "code",
      "source": "#Sort the list descending:\nthislist = [\"orange\", \"mango\", \"kiwi\", \"pineapple\", \"banana\"]\nthislist.sort(reverse = True)\nprint(thislist)",
      "metadata": {
        "trusted": true
      },
      "execution_count": 51,
      "outputs": [
        {
          "name": "stdout",
          "text": "['pineapple', 'orange', 'mango', 'kiwi', 'banana']\n",
          "output_type": "stream"
        }
      ]
    },
    {
      "cell_type": "code",
      "source": "#Sort the list descending:\n\nthislist = [100, 50, 65, 82, 23]\nthislist.sort(reverse = True)\nprint(thislist)",
      "metadata": {
        "trusted": true
      },
      "execution_count": 52,
      "outputs": [
        {
          "name": "stdout",
          "text": "[100, 82, 65, 50, 23]\n",
          "output_type": "stream"
        }
      ]
    },
    {
      "cell_type": "code",
      "source": "#Sort the list based on how close the number is to 50:\n\ndef myfunc(n):\n  return abs(n - 50)\n\n\nthislist = [100, 50, 65, 82, 23]\nthislist.sort(key = myfunc)\nprint(thislist)\n",
      "metadata": {
        "trusted": true
      },
      "execution_count": 53,
      "outputs": [
        {
          "name": "stdout",
          "text": "[50, 65, 23, 82, 100]\n",
          "output_type": "stream"
        }
      ]
    },
    {
      "cell_type": "code",
      "source": "#Case sensitive sorting can give an unexpected result:\n\nthislist = [\"banana\", \"Orange\", \"Kiwi\", \"cherry\"]\nthislist.sort()\nprint(thislist)",
      "metadata": {
        "trusted": true
      },
      "execution_count": 54,
      "outputs": [
        {
          "name": "stdout",
          "text": "['Kiwi', 'Orange', 'banana', 'cherry']\n",
          "output_type": "stream"
        }
      ]
    },
    {
      "cell_type": "code",
      "source": "#Perform a case-insensitive sort of the list:\n\nthislist = [\"banana\", \"Orange\", \"Kiwi\", \"cherry\"]\nthislist.sort(key = str.lower)\nprint(thislist)",
      "metadata": {
        "trusted": true
      },
      "execution_count": 55,
      "outputs": [
        {
          "name": "stdout",
          "text": "['banana', 'cherry', 'Kiwi', 'Orange']\n",
          "output_type": "stream"
        }
      ]
    },
    {
      "cell_type": "code",
      "source": "#Reverse the order of the list items:\n\nthislist = [\"banana\", \"Orange\", \"Kiwi\", \"cherry\"]\nthislist.reverse()\nprint(thislist)",
      "metadata": {
        "trusted": true
      },
      "execution_count": 56,
      "outputs": [
        {
          "name": "stdout",
          "text": "['cherry', 'Kiwi', 'Orange', 'banana']\n",
          "output_type": "stream"
        }
      ]
    },
    {
      "cell_type": "code",
      "source": "#Make a copy of a list with the copy() method:\nthislist = [\"apple\", \"banana\", \"cherry\"]\nmylist = thislist.copy()\nprint(mylist)",
      "metadata": {
        "trusted": true
      },
      "execution_count": 57,
      "outputs": [
        {
          "name": "stdout",
          "text": "['apple', 'banana', 'cherry']\n",
          "output_type": "stream"
        }
      ]
    },
    {
      "cell_type": "code",
      "source": "#Make a copy of a list with the list() method:\nthislist = [\"apple\", \"banana\", \"cherry\"]\nmylist = list(thislist)\nprint(mylist)",
      "metadata": {
        "trusted": true
      },
      "execution_count": 58,
      "outputs": [
        {
          "name": "stdout",
          "text": "['apple', 'banana', 'cherry']\n",
          "output_type": "stream"
        }
      ]
    },
    {
      "cell_type": "code",
      "source": "#Join two list:\n\nlist1 = [\"a\", \"b\", \"c\"]\nlist2 = [1, 2, 3]\n\n\nlist3 = list1 + list2\nprint(list3)",
      "metadata": {
        "trusted": true
      },
      "execution_count": 59,
      "outputs": [
        {
          "name": "stdout",
          "text": "['a', 'b', 'c', 1, 2, 3]\n",
          "output_type": "stream"
        }
      ]
    },
    {
      "cell_type": "code",
      "source": "#Append list2 into list1:\nlist1 = [\"a\", \"b\" , \"c\"]\nlist2 = [1, 2, 3]\n\n\nfor x in list2:\n  list1.append(x)\n\n\nprint(list1)\n",
      "metadata": {
        "trusted": true
      },
      "execution_count": 61,
      "outputs": [
        {
          "name": "stdout",
          "text": "['a', 'b', 'c', 1, 2, 3]\n",
          "output_type": "stream"
        }
      ]
    },
    {
      "cell_type": "code",
      "source": "",
      "metadata": {},
      "execution_count": null,
      "outputs": []
    }
  ]
}